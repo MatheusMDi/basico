{
  "nbformat": 4,
  "nbformat_minor": 0,
  "metadata": {
    "colab": {
      "provenance": [],
      "include_colab_link": true
    },
    "kernelspec": {
      "name": "python3",
      "display_name": "Python 3"
    },
    "language_info": {
      "name": "python"
    }
  },
  "cells": [
    {
      "cell_type": "markdown",
      "metadata": {
        "id": "view-in-github",
        "colab_type": "text"
      },
      "source": [
        "<a href=\"https://colab.research.google.com/github/MatheusMDi/basico/blob/main/Basico.ipynb\" target=\"_parent\"><img src=\"https://colab.research.google.com/assets/colab-badge.svg\" alt=\"Open In Colab\"/></a>"
      ]
    },
    {
      "cell_type": "markdown",
      "source": [
        "\n",
        "aprendendo variáveis"
      ],
      "metadata": {
        "id": "697W3pvXkvXn"
      }
    },
    {
      "cell_type": "code",
      "source": [
        "var1 = \"--\"\n",
        "print(var1*40)"
      ],
      "metadata": {
        "colab": {
          "base_uri": "https://localhost:8080/"
        },
        "id": "4fxcp5EnlIq3",
        "outputId": "c1f2e68e-543b-4cba-e0db-6addb52d089d"
      },
      "execution_count": null,
      "outputs": [
        {
          "output_type": "stream",
          "name": "stdout",
          "text": [
            "--------------------------------------------------------------------------------\n"
          ]
        }
      ]
    },
    {
      "cell_type": "markdown",
      "source": [
        "\n",
        "#Conversão Dados\n",
        "int( ) float( ) str( )\n",
        "\n",
        "\n"
      ],
      "metadata": {
        "id": "XZfoKcG7ETA3"
      }
    },
    {
      "cell_type": "code",
      "execution_count": null,
      "metadata": {
        "colab": {
          "base_uri": "https://localhost:8080/"
        },
        "id": "qdpKfHPpDW17",
        "outputId": "553a8ea6-ad33-46b2-8e0e-ebbc56b35132"
      },
      "outputs": [
        {
          "output_type": "stream",
          "name": "stdout",
          "text": [
            "20\n"
          ]
        }
      ],
      "source": [
        "#Float to Int\n",
        "print(int(20.141))"
      ]
    },
    {
      "cell_type": "code",
      "source": [
        "#Str to Float\n",
        "print(float(\"20.141\") + 85.1)"
      ],
      "metadata": {
        "colab": {
          "base_uri": "https://localhost:8080/"
        },
        "id": "lzmxjkHVDqT5",
        "outputId": "a9f8859a-8e1f-496b-d31e-3b89e11152e6"
      },
      "execution_count": null,
      "outputs": [
        {
          "output_type": "stream",
          "name": "stdout",
          "text": [
            "105.24099999999999\n"
          ]
        }
      ]
    },
    {
      "cell_type": "code",
      "source": [
        "#Boolean to String\n",
        "print(str(True))"
      ],
      "metadata": {
        "colab": {
          "base_uri": "https://localhost:8080/"
        },
        "id": "wE47qg7zD6x2",
        "outputId": "fe357b3e-d4f4-4551-98bf-93767d9266cf"
      },
      "execution_count": null,
      "outputs": [
        {
          "output_type": "stream",
          "name": "stdout",
          "text": [
            "True\n"
          ]
        }
      ]
    },
    {
      "cell_type": "markdown",
      "source": [
        "#Entrada e saída\n",
        "input( ) Sempre retorna o valor em Str\n",
        "\n",
        "print"
      ],
      "metadata": {
        "id": "OKEOHkSVEhM5"
      }
    },
    {
      "cell_type": "code",
      "source": [
        "entrada = input().split()\n",
        "#digite um valor, pressione espaço, digite outro  . . .\n",
        "distancia = int(entrada[0])\n",
        "diametro1 = int(entrada[1])\n",
        "diametro2 = int(entrada[2])\n",
        "\n",
        "print(distancia, diametro1, diametro2)\n",
        "icm = distancia/(diametro1+diametro2)\n",
        "print(\"%.3f\" % icm)"
      ],
      "metadata": {
        "colab": {
          "base_uri": "https://localhost:8080/"
        },
        "id": "R1cWZtaQRWQd",
        "outputId": "3bb5c65d-d0b6-4bc5-8cdd-46637a2e607b"
      },
      "execution_count": null,
      "outputs": [
        {
          "output_type": "stream",
          "name": "stdout",
          "text": [
            "8 7 3 \n",
            "8 7 3\n",
            "0.800\n"
          ]
        }
      ]
    },
    {
      "cell_type": "code",
      "source": [
        "\n",
        "#ENTRAR 3 VALORES, SOMAR OS 3 DIVIDIR PELO SEGUNDO E MOSTRAR SOMENTE 2 CASAS DECIMAIS\n",
        "base = input().split()\n",
        "valor1 = int(base[0])\n",
        "valor2 = int(base[1])\n",
        "valor3 = int(base[2])\n",
        "\n",
        "\n",
        "varsoma = valor1+valor2+valor3\n",
        "divisao = varsoma/valor2\n",
        "print(\"%.2f\" % divisao)\n"
      ],
      "metadata": {
        "colab": {
          "base_uri": "https://localhost:8080/"
        },
        "id": "uYradlXDr7gL",
        "outputId": "84e81a98-ad6e-40a0-c33c-dc02a04a8a30"
      },
      "execution_count": null,
      "outputs": [
        {
          "output_type": "stream",
          "name": "stdout",
          "text": [
            "9 6 1\n",
            "2.67\n"
          ]
        }
      ]
    },
    {
      "cell_type": "code",
      "source": [
        "valores = input().split()\n",
        "tempo_gasto = float(valores[0])\n",
        "velocidade_m = float(valores[1])\n",
        "km_l = 12\n",
        "distancia = velocidade_m*tempo_gasto\n",
        "litros = distancia/km_l\n",
        "\n",
        "print(\"%.3f\" % litros)"
      ],
      "metadata": {
        "id": "8912dEqSWzkS",
        "colab": {
          "base_uri": "https://localhost:8080/"
        },
        "outputId": "ed92d8ea-9984-40f3-aa70-72b64bab9826"
      },
      "execution_count": null,
      "outputs": [
        {
          "output_type": "stream",
          "name": "stdout",
          "text": [
            "2 80\n",
            "13.333\n"
          ]
        }
      ]
    },
    {
      "cell_type": "code",
      "source": [
        "valores = input().split()\n",
        "tempo_gasto = float(valores[0])\n",
        "velocidade_m = float(valores[1])\n",
        "\n",
        "litros = velocidade_m*tempo_gasto/12\n",
        "\n",
        "print(\"%.3f\" % litros)"
      ],
      "metadata": {
        "colab": {
          "base_uri": "https://localhost:8080/"
        },
        "id": "djgaM1ZN41Ux",
        "outputId": "32e5b9c0-8ae1-426c-eab2-82776d57be9a"
      },
      "execution_count": null,
      "outputs": [
        {
          "output_type": "stream",
          "name": "stdout",
          "text": [
            "3 70\n",
            "17.500\n"
          ]
        }
      ]
    },
    {
      "cell_type": "code",
      "source": [
        "nome = input()\n",
        "sobrenome = \"Sobrenome\"\n",
        "print(nome, sobrenome)\n",
        "print(nome, sobrenome, end = '...\\n')\n",
        "print(nome, sobrenome, sep = \" \")"
      ],
      "metadata": {
        "colab": {
          "base_uri": "https://localhost:8080/"
        },
        "id": "icYXCQAlEavs",
        "outputId": "6c9beb03-fc79-445e-acc8-bc60635f7b11"
      },
      "execution_count": null,
      "outputs": [
        {
          "output_type": "stream",
          "name": "stdout",
          "text": [
            "Marco\n",
            "Marco Sobrenome\n",
            "Marco Sobrenome...\n",
            "Marco Sobrenome\n"
          ]
        }
      ]
    },
    {
      "cell_type": "markdown",
      "source": [
        "#Operadore aritmeticos\n",
        "\"+\"\tAdição\tRealiza a soma de ambos operandos.\n",
        "\n",
        "\"-\"\tSubtração\tRealiza a subtração de ambos operandos.\n",
        "\n",
        "\"*\"\tMultiplicação\tRealiza a multiplicação de ambos operandos.\n",
        "\n",
        "\"/\"\tDivisão\tRealiza a Divisão de ambos operandos.\n",
        "\n",
        "\"//\"\tDivisão inteira\tRealiza a divisão entre operandos e a parte decimal de ambos operandos.\n",
        "\n",
        "\"%\"\tMódulo\tRetorna o resto da divisão de ambos operandos.\n",
        "\n",
        "\"**\"\tExponenciação\tRetorna o resultado da elevação da potência pelo outro."
      ],
      "metadata": {
        "id": "Un0dRUlLGq4H"
      }
    },
    {
      "cell_type": "code",
      "source": [
        "quatro = 4\n",
        "dois = 2\n",
        "\n",
        "soma = quatro + dois\n",
        "print(\"soma:\",soma)\n",
        "\n",
        "subtracao = quatro - dois\n",
        "print(\"subtracao:\",subtracao)\n",
        "\n",
        "multiplicacao = quatro * dois\n",
        "print(\"multiplicacao:\",multiplicacao)\n",
        "\n",
        "divisao = quatro / dois\n",
        "print(\"divisao:\",divisao)\n",
        "\n",
        "divisao_inteira = quatro // dois\n",
        "print(\"divisao inteira:\",divisao_inteira)\n",
        "\n",
        "modulo = quatro % dois\n",
        "print(\"modulo:\",modulo)\n",
        "\n",
        "exponenciacao = quatro ** dois\n",
        "print(\"exponenciacao:\",exponenciacao)"
      ],
      "metadata": {
        "colab": {
          "base_uri": "https://localhost:8080/"
        },
        "id": "KuidXNLWHGsq",
        "outputId": "5c326460-616d-44a3-e898-be64c4c916d1"
      },
      "execution_count": null,
      "outputs": [
        {
          "output_type": "stream",
          "name": "stdout",
          "text": [
            "soma: 6\n",
            "subtracao: 2\n",
            "multiplicacao: 8\n",
            "divisao: 2.0\n",
            "divisao inteira: 2\n",
            "modulo: 0\n",
            "exponenciacao: 16\n"
          ]
        }
      ]
    },
    {
      "cell_type": "markdown",
      "source": [
        "#Operadores de Comparação\n",
        "\n",
        "\"==\"\tIgual a\tVerifica se um valor é igual ao outro\n",
        "\n",
        "\"!=\"\tDiferente de\tVerifica se um valor é diferente ao outro\n",
        "\n",
        "\">\"\tMaior que\tVerifica se um valor é maior que outro\n",
        "\n",
        "\">=\"\tMaior ou igual\tVerifica se um valor é maior ou igual ao outro\n",
        "\n",
        "\"<\"\tMenor que\tVerifica se um valor é menor que outro\n",
        "\n",
        "\"<=\"\tMenor ou igual\tVerifica se um valor é menor ou igual ao outro"
      ],
      "metadata": {
        "id": "BIggIuY6H0Qp"
      }
    },
    {
      "cell_type": "code",
      "source": [
        "var = 5\n",
        "\n",
        "if var == 5:\n",
        "    print('Os valores são iguais')\n",
        "\n",
        "if var != 7:\n",
        "    print('O valor não é igual a 7')\n",
        "\n",
        "if var > 2:\n",
        "    print('O valor da variável é maior de 2')\n",
        "\n",
        "if var >= 5:\n",
        "    print('O valor da variável é maior ou igual a 5')\n",
        "\n",
        "if var < 7:\n",
        "    print('O valor da variável é menor que 7')\n",
        "\n",
        "if var <= 5:\n",
        "    print('O valor da variável é menor ou igual a 5')\n"
      ],
      "metadata": {
        "colab": {
          "base_uri": "https://localhost:8080/"
        },
        "id": "2BtIuQAnH_2e",
        "outputId": "f313bb41-d9a3-4e61-9971-74323572cbbe"
      },
      "execution_count": null,
      "outputs": [
        {
          "output_type": "stream",
          "name": "stdout",
          "text": [
            "Os valores são iguais\n",
            "O valor não é igual a 7\n",
            "O valor da variável é maior de 2\n",
            "O valor da variável é maior ou igual a 5\n",
            "O valor da variável é menor que 7\n",
            "O valor da variável é menor ou igual a 5\n"
          ]
        }
      ]
    },
    {
      "cell_type": "code",
      "source": [
        "import time\n",
        "operador = input()\n",
        "if operador == \"soma\":\n",
        "  time.sleep(10)\n",
        "  valor1 = int(input())\n",
        "  valor2 = int(input())\n",
        "  print(valor1+valor2)\n",
        "elif operador == \"sub\":\n",
        "  valor1 = int(input())\n",
        "  valor2 = int(input())\n",
        "  print(valor1-valor2)\n",
        "else:\n",
        "  print('cálculo não encontrado')\n"
      ],
      "metadata": {
        "colab": {
          "base_uri": "https://localhost:8080/"
        },
        "id": "vXq9T34D-tQU",
        "outputId": "804f1583-a51e-44ee-9ae4-9515a4c49c11"
      },
      "execution_count": null,
      "outputs": [
        {
          "output_type": "stream",
          "name": "stdout",
          "text": [
            "soma\n",
            "12\n",
            "4\n",
            "16\n"
          ]
        }
      ]
    },
    {
      "cell_type": "markdown",
      "source": [
        "#Operadores de Atribuição\n",
        "=\tx = 1\n",
        "\n",
        "+=\tx = x + 1\n",
        "\n",
        "-=\tx = x - 1\n",
        "\n",
        "*=\tx = x * 1\n",
        "\n",
        "/=\tx = x / 1\n",
        "\n",
        "%=\tx = x % 1"
      ],
      "metadata": {
        "id": "YG_KggE3IS2U"
      }
    },
    {
      "cell_type": "code",
      "source": [
        "numero01 = 5\n",
        "numero01 = numero01+7\n",
        "numero01 += 7\n",
        "print(numero01)\n",
        "\n",
        "numero02 = 5\n",
        "numero02 -= 3\n",
        "print(numero02)\n",
        "\n",
        "numero03 = 5\n",
        "numero03 *= 2\n",
        "print(numero03)\n",
        "\n",
        "numero04 = 5\n",
        "numero04 /= 4\n",
        "print(numero04)\n",
        "\n",
        "numero05 = 5\n",
        "numero05 %= 2\n",
        "print(numero05)\n"
      ],
      "metadata": {
        "colab": {
          "base_uri": "https://localhost:8080/"
        },
        "id": "oRL2wywCIMXv",
        "outputId": "a179efe2-5292-42fb-979e-e825948c8a15"
      },
      "execution_count": null,
      "outputs": [
        {
          "output_type": "stream",
          "name": "stdout",
          "text": [
            "12\n",
            "2\n",
            "10\n",
            "1.25\n",
            "1\n"
          ]
        }
      ]
    },
    {
      "cell_type": "markdown",
      "source": [
        "#Operadores Lógicos\n",
        "\"and\"\tRetorna True se ambas as afirmações forem verdadeiras\n",
        "\n",
        "\"or\"\tRetorna True se uma das afirmações for verdadeira\n",
        "\n",
        "\"not\"\tretorna Falso se o resultado for verdadeiro"
      ],
      "metadata": {
        "id": "GcuxilwDJkI_"
      }
    },
    {
      "cell_type": "code",
      "source": [
        "num1 = 3\n",
        "num2 = 4\n",
        "\n",
        "# Exemplo and\n",
        "if num1 == 3 and num2 < 8:\n",
        "    print(\"As Duas condições são verdadeiras\")\n",
        "\n",
        "# Exemplo or\n",
        "if num1 > 4 or num2 <= 8:\n",
        "    print(\"Uma ou duas das condições são verdadeiras\")\n",
        "\n",
        "# Exemplo not\n",
        "if not (num1 < 3 and num2 > 8):\n",
        "    print('Inverte o resultado da condição entre os parânteses')\n"
      ],
      "metadata": {
        "colab": {
          "base_uri": "https://localhost:8080/"
        },
        "id": "lfWVtMc7Js9g",
        "outputId": "fce89cd9-73ed-4359-b79d-d1d98ae682ed"
      },
      "execution_count": null,
      "outputs": [
        {
          "output_type": "stream",
          "name": "stdout",
          "text": [
            "As Duas condições são verdadeiras\n",
            "Uma ou duas das condições são verdadeiras\n",
            "Inverte o resultado da condição entre os parânteses\n"
          ]
        }
      ]
    },
    {
      "cell_type": "markdown",
      "source": [
        "#Operadores de Identidade\n",
        "\"is\"\tRetorna True se ambas as variáveis são o mesmo objeto\n",
        "\n",
        "\"is not\"\tRetorna True se ambas as variáveis não forem o mesmo objeto"
      ],
      "metadata": {
        "id": "q859dgcTKN4p"
      }
    },
    {
      "cell_type": "code",
      "source": [
        "lista = [1, 2, 3]\n",
        "outra_lista = [1, 2, 3]\n",
        "recebe_lista = lista\n",
        "\n",
        "# Recebe True, pois são o mesmo objeto\n",
        "print(f\"São o mesmo objeto? {lista is recebe_lista}\")\n",
        "\n",
        "# Retorna False, pois são objetos diferentes\n",
        "print(f\"São o mesmo objeto? {lista is outra_lista}\")\n"
      ],
      "metadata": {
        "colab": {
          "base_uri": "https://localhost:8080/"
        },
        "id": "J_hO9EiEKJ7K",
        "outputId": "fae91b18-5cfc-43ac-dd03-343bd15fdc00"
      },
      "execution_count": null,
      "outputs": [
        {
          "output_type": "stream",
          "name": "stdout",
          "text": [
            "São o mesmo objeto? True\n",
            "São o mesmo objeto? False\n"
          ]
        }
      ]
    },
    {
      "cell_type": "code",
      "source": [
        "tupla = (1, 2, 3)\n",
        "outra_tupla = (1, 2, 3)\n",
        "\n",
        "print(f\"Os objetos são diferentes? {outra_tupla is tupla}\")\n"
      ],
      "metadata": {
        "colab": {
          "base_uri": "https://localhost:8080/"
        },
        "id": "uhkBrgPUKgxp",
        "outputId": "4385d19e-26da-4e6f-c6c3-66ad00fddd00"
      },
      "execution_count": null,
      "outputs": [
        {
          "output_type": "stream",
          "name": "stdout",
          "text": [
            "Os objetos são diferentes? False\n"
          ]
        }
      ]
    },
    {
      "cell_type": "markdown",
      "source": [
        "#Operadores de Associação\n",
        "\"in\"\tRetorna True caso o valor seja encontrado na sequência\n",
        "\n",
        "\"not in\"\tRetorna True caso o valor não seja encontrado na sequência"
      ],
      "metadata": {
        "id": "4pxPiZm0Kk_a"
      }
    },
    {
      "cell_type": "code",
      "source": [
        "lista = [\"Python\", 'Academy', \"Operadores\", 'Condições']\n",
        "\n",
        "# Verifica se existe a string dentro da lista\n",
        "print('Python' in lista)  # Saída: True\n",
        "\n",
        "# Verifica se não existe a string dentro da lista\n",
        "print('SQL' not in lista) # Saída: True"
      ],
      "metadata": {
        "colab": {
          "base_uri": "https://localhost:8080/"
        },
        "id": "XBxY3xpDKuBf",
        "outputId": "48433da6-a256-4e31-9e02-e9c94b263baf"
      },
      "execution_count": null,
      "outputs": [
        {
          "output_type": "stream",
          "name": "stdout",
          "text": [
            "True\n",
            "True\n"
          ]
        }
      ]
    },
    {
      "cell_type": "code",
      "source": [
        "x = (22 - 10) * 3\n",
        "print(x)"
      ],
      "metadata": {
        "colab": {
          "base_uri": "https://localhost:8080/"
        },
        "id": "RXiwH5H3LStC",
        "outputId": "7b134d01-0569-4a56-bcf9-425bdb9dd853"
      },
      "execution_count": null,
      "outputs": [
        {
          "output_type": "stream",
          "name": "stdout",
          "text": [
            "36\n"
          ]
        }
      ]
    },
    {
      "cell_type": "markdown",
      "source": [
        "#For"
      ],
      "metadata": {
        "id": "5Nst4ibWLs0T"
      }
    },
    {
      "cell_type": "code",
      "source": [
        "lista = [1, 2, 3, 4, 5]\n",
        "\n",
        "for item in lista:\n",
        "    print(item)\n",
        "else:\n",
        "    print('Todos os items foram exibidos com sucesso')"
      ],
      "metadata": {
        "colab": {
          "base_uri": "https://localhost:8080/"
        },
        "id": "wo8mCUdKLway",
        "outputId": "8698194c-7c77-4722-eb57-6470085a2369"
      },
      "execution_count": null,
      "outputs": [
        {
          "output_type": "stream",
          "name": "stdout",
          "text": [
            "1\n",
            "2\n",
            "3\n",
            "4\n",
            "5\n",
            "Todos os items foram exibidos com sucesso\n"
          ]
        }
      ]
    },
    {
      "cell_type": "code",
      "source": [
        "computador = ['Processador', 'Teclado', 'Mouse']\n",
        "\n",
        "for item in computador:\n",
        "    print(item)"
      ],
      "metadata": {
        "colab": {
          "base_uri": "https://localhost:8080/"
        },
        "id": "ZnRx9O9UL-x1",
        "outputId": "19992cea-6806-4551-f61a-4d1a7880cada"
      },
      "execution_count": null,
      "outputs": [
        {
          "output_type": "stream",
          "name": "stdout",
          "text": [
            "Processador\n",
            "Teclado\n",
            "Mouse\n"
          ]
        }
      ]
    },
    {
      "cell_type": "code",
      "source": [
        "notas = {\n",
        "    'Potuguês': 7,\n",
        "    'Matemática': 9,\n",
        "    'Lógica': 7,\n",
        "    'Algoritmo': 7\n",
        "}\n",
        "\n",
        "for chave, valor in notas.items():\n",
        "    print(f\"{chave}: {valor}\")"
      ],
      "metadata": {
        "colab": {
          "base_uri": "https://localhost:8080/"
        },
        "id": "lqTiq56ZMBSq",
        "outputId": "36b1328d-0ac2-4977-90df-ff795b2c94cc"
      },
      "execution_count": null,
      "outputs": [
        {
          "output_type": "stream",
          "name": "stdout",
          "text": [
            "Potuguês: 7\n",
            "Matemática: 9\n",
            "Lógica: 7\n",
            "Algoritmo: 7\n"
          ]
        }
      ]
    },
    {
      "cell_type": "code",
      "source": [
        "for caractere in 'Python',\"teste\":\n",
        "    print(caractere)"
      ],
      "metadata": {
        "colab": {
          "base_uri": "https://localhost:8080/"
        },
        "id": "hvF0eU_vMIb6",
        "outputId": "6dbc577a-f808-4103-af00-ca214702444f"
      },
      "execution_count": null,
      "outputs": [
        {
          "output_type": "stream",
          "name": "stdout",
          "text": [
            "Python\n",
            "teste\n"
          ]
        }
      ]
    },
    {
      "cell_type": "markdown",
      "source": [
        "#While"
      ],
      "metadata": {
        "id": "SqSxxAXcMPNe"
      }
    },
    {
      "cell_type": "code",
      "source": [
        "contador = 0\n",
        "\n",
        "while contador < 10:\n",
        "    print(f'Valor do contador é {contador}')\n",
        "    contador += 1"
      ],
      "metadata": {
        "colab": {
          "base_uri": "https://localhost:8080/"
        },
        "id": "yycvg3z7MNE8",
        "outputId": "6ad682e5-2a3f-42dd-9916-dede7e3a99d8"
      },
      "execution_count": null,
      "outputs": [
        {
          "output_type": "stream",
          "name": "stdout",
          "text": [
            "Valor do contador é 0\n",
            "Valor do contador é 1\n",
            "Valor do contador é 2\n",
            "Valor do contador é 3\n",
            "Valor do contador é 4\n",
            "Valor do contador é 5\n",
            "Valor do contador é 6\n",
            "Valor do contador é 7\n",
            "Valor do contador é 8\n",
            "Valor do contador é 9\n"
          ]
        }
      ]
    },
    {
      "cell_type": "code",
      "source": [
        "contador = 0\n",
        "\n",
        "while contador < 10:\n",
        "    contador += 1\n",
        "    print(f'Valor do contador é {contador}')\n",
        "else:\n",
        "    print(f'Fim do while e o valor do contador é {contador}')\n"
      ],
      "metadata": {
        "colab": {
          "base_uri": "https://localhost:8080/"
        },
        "id": "hlNGfK5FMTh7",
        "outputId": "24c94973-b95a-4264-ecb8-187a59207b03"
      },
      "execution_count": null,
      "outputs": [
        {
          "output_type": "stream",
          "name": "stdout",
          "text": [
            "Valor do contador é 1\n",
            "Valor do contador é 2\n",
            "Valor do contador é 3\n",
            "Valor do contador é 4\n",
            "Valor do contador é 5\n",
            "Valor do contador é 6\n",
            "Valor do contador é 7\n",
            "Valor do contador é 8\n",
            "Valor do contador é 9\n",
            "Valor do contador é 10\n",
            "Fim do while e o valor do contador é 10\n"
          ]
        }
      ]
    },
    {
      "cell_type": "markdown",
      "source": [
        "#Auxiliadores de Loop\n",
        "Break\n",
        "Continue\n",
        "Pass"
      ],
      "metadata": {
        "id": "E6hVpGaUMY_Y"
      }
    },
    {
      "cell_type": "code",
      "source": [
        "for num in range(10):\n",
        "    # Se o número for igual a = 5, devemos parar o loop\n",
        "    if num == 5:\n",
        "        # Break faz o loop finalizar\n",
        "        break\n",
        "    else:\n",
        "        print(num)"
      ],
      "metadata": {
        "colab": {
          "base_uri": "https://localhost:8080/"
        },
        "id": "t67xG8ELMi3d",
        "outputId": "6b2e2596-0a43-4ac3-8bea-2caf6a71772a"
      },
      "execution_count": null,
      "outputs": [
        {
          "output_type": "stream",
          "name": "stdout",
          "text": [
            "0\n",
            "1\n",
            "2\n",
            "3\n",
            "4\n"
          ]
        }
      ]
    },
    {
      "cell_type": "code",
      "source": [
        "num = 0\n",
        "while num < 5:\n",
        "    num += 1\n",
        "\n",
        "    if num == 3:\n",
        "        continue\n",
        "\n",
        "    print(num)"
      ],
      "metadata": {
        "colab": {
          "base_uri": "https://localhost:8080/"
        },
        "id": "LmDuaN0qMmJG",
        "outputId": "cfe4b4f6-c37b-4373-ef8b-72297fa6c868"
      },
      "execution_count": null,
      "outputs": [
        {
          "output_type": "stream",
          "name": "stdout",
          "text": [
            "1\n",
            "2\n",
            "4\n",
            "5\n"
          ]
        }
      ]
    },
    {
      "cell_type": "code",
      "source": [
        "for item in range(5000):\n",
        "    pass\n",
        "\n",
        "while False:\n",
        "    pass\n",
        "\n",
        "class Classe:\n",
        "    pass\n",
        "\n",
        "if True:\n",
        "    pass\n",
        "else:\n",
        "    pass\n",
        "\n",
        "def funcao():\n",
        "    pass\n",
        "\n",
        "#pass nada mais é que uma forma de fazer um código que não realiza operação nenhuma. (pula tudo)"
      ],
      "metadata": {
        "id": "QJcEdWexMrsY"
      },
      "execution_count": null,
      "outputs": []
    },
    {
      "cell_type": "markdown",
      "source": [
        "#Funções uteis para Loop\n",
        "range( )\n",
        "\n",
        "enumerate( )\n"
      ],
      "metadata": {
        "id": "9v09styNM8s3"
      }
    },
    {
      "cell_type": "code",
      "source": [
        "for num in range(2):\n",
        "  print(num)"
      ],
      "metadata": {
        "colab": {
          "base_uri": "https://localhost:8080/"
        },
        "id": "gReNk7H4M6vR",
        "outputId": "379365de-40fe-43c1-8694-f5c26146a9d4"
      },
      "execution_count": null,
      "outputs": [
        {
          "output_type": "stream",
          "name": "stdout",
          "text": [
            "0\n",
            "1\n"
          ]
        }
      ]
    },
    {
      "cell_type": "code",
      "source": [
        "for num in len(\"Matheus\"):\n",
        "  print(num)"
      ],
      "metadata": {
        "colab": {
          "base_uri": "https://localhost:8080/",
          "height": 184
        },
        "id": "rpsUgXiNm86s",
        "outputId": "f1edf07f-3e07-4a25-baa4-278c9e79433b"
      },
      "execution_count": null,
      "outputs": [
        {
          "output_type": "error",
          "ename": "TypeError",
          "evalue": "ignored",
          "traceback": [
            "\u001b[0;31m---------------------------------------------------------------------------\u001b[0m",
            "\u001b[0;31mTypeError\u001b[0m                                 Traceback (most recent call last)",
            "\u001b[0;32m<ipython-input-2-7c5f2d8e41c0>\u001b[0m in \u001b[0;36m<module>\u001b[0;34m\u001b[0m\n\u001b[0;32m----> 1\u001b[0;31m \u001b[0;32mfor\u001b[0m \u001b[0mnum\u001b[0m \u001b[0;32min\u001b[0m \u001b[0mlen\u001b[0m\u001b[0;34m(\u001b[0m\u001b[0;34m\"Matheus\"\u001b[0m\u001b[0;34m)\u001b[0m\u001b[0;34m:\u001b[0m\u001b[0;34m\u001b[0m\u001b[0;34m\u001b[0m\u001b[0m\n\u001b[0m\u001b[1;32m      2\u001b[0m   \u001b[0mprint\u001b[0m\u001b[0;34m(\u001b[0m\u001b[0mnum\u001b[0m\u001b[0;34m)\u001b[0m\u001b[0;34m\u001b[0m\u001b[0;34m\u001b[0m\u001b[0m\n",
            "\u001b[0;31mTypeError\u001b[0m: 'int' object is not iterable"
          ]
        }
      ]
    },
    {
      "cell_type": "code",
      "source": [
        "contador = 0\n",
        "computador = ['Processador', 'Teclado', 'Mouse']\n",
        "#SEM ENUMERATE\n",
        "for elemento in computador:\n",
        "    print(f\"Índice={contador} | Valor={elemento}\")\n",
        "    contador += 1"
      ],
      "metadata": {
        "colab": {
          "base_uri": "https://localhost:8080/"
        },
        "id": "2IvdDM3rNQuD",
        "outputId": "78f0ec53-7b09-450e-c7fb-9674a4bef581"
      },
      "execution_count": null,
      "outputs": [
        {
          "output_type": "stream",
          "name": "stdout",
          "text": [
            "Índice=0 | Valor=Processador\n",
            "Índice=1 | Valor=Teclado\n",
            "Índice=2 | Valor=Mouse\n"
          ]
        }
      ]
    },
    {
      "cell_type": "code",
      "source": [
        "computador = ['Processador', 'Teclado', 'Mouse']\n",
        "for indice, valor in enumerate(computador):\n",
        "    print(f\"Índice={indice} | Valor={valor}\")"
      ],
      "metadata": {
        "colab": {
          "base_uri": "https://localhost:8080/"
        },
        "id": "YhVXBA_fNYVT",
        "outputId": "dafc9e53-4788-4d73-f9b9-3f74d781571c"
      },
      "execution_count": null,
      "outputs": [
        {
          "output_type": "stream",
          "name": "stdout",
          "text": [
            "Índice=0 | Valor=Processador\n",
            "Índice=1 | Valor=Teclado\n",
            "Índice=2 | Valor=Mouse\n"
          ]
        }
      ]
    },
    {
      "cell_type": "code",
      "source": [
        "computador = ['Processador', 'Teclado', 'Mouse']\n",
        "for indice in range(len(computador)):\n",
        "    print(f\"Índice={indice} | valor={computador[indice]}\")\n"
      ],
      "metadata": {
        "colab": {
          "base_uri": "https://localhost:8080/"
        },
        "id": "Ul5EPp3RNcod",
        "outputId": "f98d4026-7730-4c05-fa2c-fddd543dd310"
      },
      "execution_count": null,
      "outputs": [
        {
          "output_type": "stream",
          "name": "stdout",
          "text": [
            "Índice=0 | valor=Processador\n",
            "Índice=1 | valor=Teclado\n",
            "Índice=2 | valor=Mouse\n"
          ]
        }
      ]
    },
    {
      "cell_type": "markdown",
      "source": [
        "#Strings\n"
      ],
      "metadata": {
        "id": "EYYfrUm_ODF4"
      }
    },
    {
      "cell_type": "code",
      "source": [
        "nome = \"Erick\"\n",
        "\n",
        "print(nome[0])\n",
        "print(nome[1])\n",
        "print(nome[2])\n",
        "print(\"*\"*20)\n",
        "print(nome[-1])\n",
        "print(nome[-2])\n",
        "print(nome[-3])\n"
      ],
      "metadata": {
        "colab": {
          "base_uri": "https://localhost:8080/"
        },
        "id": "kanzkh5COGH-",
        "outputId": "478e899b-1250-4289-dc04-5eb414d9046f"
      },
      "execution_count": null,
      "outputs": [
        {
          "output_type": "stream",
          "name": "stdout",
          "text": [
            "E\n",
            "r\n",
            "i\n",
            "********************\n",
            "k\n",
            "c\n",
            "i\n"
          ]
        }
      ]
    },
    {
      "cell_type": "code",
      "source": [
        "nome = \"Pythonista\"\n",
        "\n",
        "# Desde a posição de índice 3 (que é o \"h\")\n",
        "# até a última posição da string\n",
        "print(nome[3:])\n",
        "\n",
        "# Desde a posição de índice -3 (que é o \"s\")\n",
        "# até a última posição da string\n",
        "print(nome[-3:])"
      ],
      "metadata": {
        "colab": {
          "base_uri": "https://localhost:8080/"
        },
        "id": "bY2SXrWtOP14",
        "outputId": "95e359a4-787a-43cf-b080-ea41f4c9e546"
      },
      "execution_count": null,
      "outputs": [
        {
          "output_type": "stream",
          "name": "stdout",
          "text": [
            "honista\n",
            "sta\n"
          ]
        }
      ]
    },
    {
      "cell_type": "code",
      "source": [
        "texto = \"Python é uma linguagem de programação de alto nível\"\n",
        "\n",
        "print(texto[13:23])"
      ],
      "metadata": {
        "colab": {
          "base_uri": "https://localhost:8080/"
        },
        "id": "nKLxsruEOWtz",
        "outputId": "93afd915-e902-4d39-e9a9-9d08a96a1455"
      },
      "execution_count": null,
      "outputs": [
        {
          "output_type": "stream",
          "name": "stdout",
          "text": [
            "linguagem \n"
          ]
        }
      ]
    },
    {
      "cell_type": "code",
      "source": [
        "var1 = 'variável'\n",
        "var2 = 'string'\n",
        "\n",
        "print(var1 + var2)\n",
        "print(var1 + \" \" + var2)\n"
      ],
      "metadata": {
        "colab": {
          "base_uri": "https://localhost:8080/"
        },
        "id": "tvmQRXOROZuO",
        "outputId": "97aeec45-e151-4cf4-9a9e-a5762395babb"
      },
      "execution_count": null,
      "outputs": [
        {
          "output_type": "stream",
          "name": "stdout",
          "text": [
            "variávelstring\n",
            "variável string\n"
          ]
        }
      ]
    },
    {
      "cell_type": "code",
      "source": [
        "linha = '-'\n",
        "\n",
        "print(linha * 28)\n",
        "print(\"Nosso código\")\n",
        "print(linha * 28)"
      ],
      "metadata": {
        "colab": {
          "base_uri": "https://localhost:8080/"
        },
        "id": "BR5pUaxCOcCI",
        "outputId": "131c4f85-8506-48d5-beb4-69fc829975a2"
      },
      "execution_count": null,
      "outputs": [
        {
          "output_type": "stream",
          "name": "stdout",
          "text": [
            "----------------------------\n",
            "Nosso código\n",
            "----------------------------\n"
          ]
        }
      ]
    },
    {
      "cell_type": "code",
      "source": [
        "var = 'Média: '\n",
        "\n",
        "print(var + 10)\n",
        "#da erro"
      ],
      "metadata": {
        "colab": {
          "base_uri": "https://localhost:8080/",
          "height": 217
        },
        "id": "wb58hT_5Oc9z",
        "outputId": "9e31765e-58d5-4545-f5df-b733c021d513"
      },
      "execution_count": null,
      "outputs": [
        {
          "output_type": "error",
          "ename": "TypeError",
          "evalue": "ignored",
          "traceback": [
            "\u001b[0;31m---------------------------------------------------------------------------\u001b[0m",
            "\u001b[0;31mTypeError\u001b[0m                                 Traceback (most recent call last)",
            "\u001b[0;32m<ipython-input-1-b51e74e52060>\u001b[0m in \u001b[0;36m<module>\u001b[0;34m\u001b[0m\n\u001b[1;32m      1\u001b[0m \u001b[0mvar\u001b[0m \u001b[0;34m=\u001b[0m \u001b[0;34m'Média: '\u001b[0m\u001b[0;34m\u001b[0m\u001b[0;34m\u001b[0m\u001b[0m\n\u001b[1;32m      2\u001b[0m \u001b[0;34m\u001b[0m\u001b[0m\n\u001b[0;32m----> 3\u001b[0;31m \u001b[0mprint\u001b[0m\u001b[0;34m(\u001b[0m\u001b[0mvar\u001b[0m \u001b[0;34m+\u001b[0m \u001b[0;36m10\u001b[0m\u001b[0;34m)\u001b[0m\u001b[0;34m\u001b[0m\u001b[0;34m\u001b[0m\u001b[0m\n\u001b[0m\u001b[1;32m      4\u001b[0m \u001b[0;31m#da erro\u001b[0m\u001b[0;34m\u001b[0m\u001b[0;34m\u001b[0m\u001b[0;34m\u001b[0m\u001b[0m\n",
            "\u001b[0;31mTypeError\u001b[0m: can only concatenate str (not \"int\") to str"
          ]
        }
      ]
    },
    {
      "cell_type": "code",
      "source": [
        "print('{} {}'.format(var, 1))"
      ],
      "metadata": {
        "colab": {
          "base_uri": "https://localhost:8080/"
        },
        "id": "UFUNKBn-Oiwr",
        "outputId": "97d695a3-dd47-462b-8852-9522c0311922"
      },
      "execution_count": null,
      "outputs": [
        {
          "output_type": "stream",
          "name": "stdout",
          "text": [
            "Média:  1\n"
          ]
        }
      ]
    },
    {
      "cell_type": "code",
      "source": [
        "qtd_macas = 10\n",
        "qtd_melancias = 3\n",
        "qtd_uvas = 22.2\n",
        "\n",
        "texto = 'Vou comprar {} maças, trocar {} melancias e comer {} uvas'\n",
        "print(texto.format(qtd_macas, qtd_melancias, qtd_uvas))"
      ],
      "metadata": {
        "colab": {
          "base_uri": "https://localhost:8080/"
        },
        "id": "w_JcYHIUOr59",
        "outputId": "4fb23d53-a6fc-4d79-a546-d3d2aea0b7e5"
      },
      "execution_count": null,
      "outputs": [
        {
          "output_type": "stream",
          "name": "stdout",
          "text": [
            "Vou comprar 10 maças, trocar 3 melancias e comer 22.2 uvas\n"
          ]
        }
      ]
    },
    {
      "cell_type": "code",
      "source": [
        "prefixo = \"MSCBGM\"\n",
        "sufixo = \"ola\"\n",
        "\n",
        "for caractere in prefixo:\n",
        "    print(caractere + sufixo)\n"
      ],
      "metadata": {
        "colab": {
          "base_uri": "https://localhost:8080/"
        },
        "id": "WAN14U0hO3DU",
        "outputId": "d9a8834c-898a-48f0-cc5e-3c83335739c2"
      },
      "execution_count": null,
      "outputs": [
        {
          "output_type": "stream",
          "name": "stdout",
          "text": [
            "Mola\n",
            "Sola\n",
            "Cola\n",
            "Bola\n",
            "Gola\n",
            "Mola\n"
          ]
        }
      ]
    },
    {
      "cell_type": "code",
      "source": [
        "texto = \"As strings são sequências de caracteres\"\n",
        "\n",
        "print('são' in texto)"
      ],
      "metadata": {
        "colab": {
          "base_uri": "https://localhost:8080/"
        },
        "id": "sDWX0ZijO8JR",
        "outputId": "db44e686-8053-49a1-d4b4-970243c3f159"
      },
      "execution_count": null,
      "outputs": [
        {
          "output_type": "stream",
          "name": "stdout",
          "text": [
            "True\n"
          ]
        }
      ]
    },
    {
      "cell_type": "code",
      "source": [
        "texto = \"Tenha um ótimo dia\"\n",
        "\n",
        "if 'dia' in texto:\n",
        "    print(\"A sequência de caractere existe na string!\")\n"
      ],
      "metadata": {
        "colab": {
          "base_uri": "https://localhost:8080/"
        },
        "id": "qO5D1Fh8O-Ub",
        "outputId": "6c52c602-5ea4-4b8d-ae09-0cfdaadfe4c4"
      },
      "execution_count": null,
      "outputs": [
        {
          "output_type": "stream",
          "name": "stdout",
          "text": [
            "A sequência de caractere existe na string!\n"
          ]
        }
      ]
    },
    {
      "cell_type": "code",
      "source": [
        "texto = \"A tecnologia move o mundo!\"\n",
        "\n",
        "print('qualidade' not in texto)\n",
        "\n",
        "if 'qualidade' not in texto:\n",
        "    print(\"A palavra 'qualidade' realmente não existe dentro da string!\")"
      ],
      "metadata": {
        "colab": {
          "base_uri": "https://localhost:8080/"
        },
        "id": "aNcPfOAdPAUv",
        "outputId": "1e844258-fc94-426b-872e-5830aa45dd17"
      },
      "execution_count": null,
      "outputs": [
        {
          "output_type": "stream",
          "name": "stdout",
          "text": [
            "True\n",
            "A palavra 'qualidade' realmente não existe dentro da string!\n"
          ]
        }
      ]
    },
    {
      "cell_type": "code",
      "source": [
        "variavel = \"Aprenda \"o\" Python \"\n",
        "print(variavel)\n",
        "#da erro"
      ],
      "metadata": {
        "colab": {
          "base_uri": "https://localhost:8080/",
          "height": 135
        },
        "id": "WPwDHw8qPEJO",
        "outputId": "6688035b-4f67-4ff2-8e61-cbcccb2fabe7"
      },
      "execution_count": null,
      "outputs": [
        {
          "output_type": "error",
          "ename": "SyntaxError",
          "evalue": "ignored",
          "traceback": [
            "\u001b[0;36m  File \u001b[0;32m\"<ipython-input-62-1a899b7f3019>\"\u001b[0;36m, line \u001b[0;32m1\u001b[0m\n\u001b[0;31m    variavel = \"Aprenda \"o\" Python \"\u001b[0m\n\u001b[0m                         ^\u001b[0m\n\u001b[0;31mSyntaxError\u001b[0m\u001b[0;31m:\u001b[0m invalid syntax\n"
          ]
        }
      ]
    },
    {
      "cell_type": "code",
      "source": [
        "variavel = \"Aprenda \\\"o\\\" Python\"\n",
        "print(variavel)"
      ],
      "metadata": {
        "colab": {
          "base_uri": "https://localhost:8080/"
        },
        "id": "Egj_qvODPHcq",
        "outputId": "11af76c1-b821-4f68-a792-5226649bd4ee"
      },
      "execution_count": null,
      "outputs": [
        {
          "output_type": "stream",
          "name": "stdout",
          "text": [
            "Aprenda \"o\" Python\n"
          ]
        }
      ]
    },
    {
      "cell_type": "code",
      "source": [
        "variavel = \"Contra \\\\' \\\\ barra\"\n",
        "print(variavel)"
      ],
      "metadata": {
        "colab": {
          "base_uri": "https://localhost:8080/"
        },
        "id": "HMQX0XmuPQzU",
        "outputId": "a7a21036-1c4c-4642-c721-53ae4ae5f543"
      },
      "execution_count": null,
      "outputs": [
        {
          "output_type": "stream",
          "name": "stdout",
          "text": [
            "Contra \\' \\ barra\n"
          ]
        }
      ]
    },
    {
      "cell_type": "code",
      "source": [
        "variavel = \"Desejo quebrar \\n essa linha\"\n",
        "print(variavel)"
      ],
      "metadata": {
        "colab": {
          "base_uri": "https://localhost:8080/"
        },
        "id": "l9mGY1dWPTRI",
        "outputId": "c4a81acc-24da-4cc6-8aa5-90f3f2b4c8c7"
      },
      "execution_count": null,
      "outputs": [
        {
          "output_type": "stream",
          "name": "stdout",
          "text": [
            "Desejo quebrar \n",
            " essa linha\n"
          ]
        }
      ]
    },
    {
      "cell_type": "code",
      "source": [
        "variavel = \"Quatro espaço \\t para um tab\"\n",
        "\n",
        "print(variavel)"
      ],
      "metadata": {
        "colab": {
          "base_uri": "https://localhost:8080/"
        },
        "id": "vt06TBc7PUYs",
        "outputId": "0a998778-d5a9-43c5-f04f-4a681fdd42b6"
      },
      "execution_count": null,
      "outputs": [
        {
          "output_type": "stream",
          "name": "stdout",
          "text": [
            "Quatro espaço \t para um tab\n"
          ]
        }
      ]
    },
    {
      "cell_type": "code",
      "source": [
        "#backspace \\b\n",
        "variavel = \"Aa\\b Bb\\b Cc\\b\"\n",
        "print(variavel)"
      ],
      "metadata": {
        "colab": {
          "base_uri": "https://localhost:8080/"
        },
        "id": "nBBlc1VHP0hl",
        "outputId": "a408b820-b28e-41b0-8fc8-8de5908ac433"
      },
      "execution_count": null,
      "outputs": [
        {
          "output_type": "stream",
          "name": "stdout",
          "text": [
            "Aaf\b Bb\b Cc\b\n"
          ]
        }
      ]
    },
    {
      "cell_type": "code",
      "source": [
        "#Representando Strings em Octal e Hexadecimal\n",
        "variavel = \"\\101 \\102 \\103 \\104 - \\060 \\061 \\062 \\063\"\n",
        "print(variavel)\n",
        "variavel = \"\\x61 \\x62 \\x63 \\x64 - \\x30 \\x31 \\x32 \\x33\"\n",
        "print(variavel)\n",
        "\n"
      ],
      "metadata": {
        "colab": {
          "base_uri": "https://localhost:8080/"
        },
        "id": "XJTtk3xKP8nb",
        "outputId": "994e9753-3e70-48d9-89f0-07efd4277464"
      },
      "execution_count": null,
      "outputs": [
        {
          "output_type": "stream",
          "name": "stdout",
          "text": [
            "A B C D - 0 1 2 3\n",
            "a b c d - 0 1 2 3\n"
          ]
        }
      ]
    },
    {
      "cell_type": "code",
      "source": [
        "curso = \"Python\"\n",
        "print(curso[::-1])"
      ],
      "metadata": {
        "colab": {
          "base_uri": "https://localhost:8080/"
        },
        "id": "7Y_IX-I0Qp5t",
        "outputId": "12a5eb50-596a-43f3-af19-261aa355c0b2"
      },
      "execution_count": null,
      "outputs": [
        {
          "output_type": "stream",
          "name": "stdout",
          "text": [
            "nohtyP\n"
          ]
        }
      ]
    },
    {
      "cell_type": "markdown",
      "source": [
        "Funções Def()"
      ],
      "metadata": {
        "id": "JMruzIx_4r5o"
      }
    },
    {
      "cell_type": "code",
      "source": [
        "def soma(x,y):\n",
        "  print(x+y)\n",
        "\n",
        "soma(2,4)"
      ],
      "metadata": {
        "colab": {
          "base_uri": "https://localhost:8080/"
        },
        "id": "PeFN0rbURDUx",
        "outputId": "858a1894-42cd-4f6a-81de-36e8a62b524b"
      },
      "execution_count": null,
      "outputs": [
        {
          "output_type": "stream",
          "name": "stdout",
          "text": [
            "6\n"
          ]
        }
      ]
    },
    {
      "cell_type": "markdown",
      "source": [
        "Funções Lambda"
      ],
      "metadata": {
        "id": "0mKrD3djSZ_B"
      }
    },
    {
      "cell_type": "code",
      "source": [
        "x = lambda a, b, c : a + b + c\n",
        "print(x(2, 6, 2))"
      ],
      "metadata": {
        "colab": {
          "base_uri": "https://localhost:8080/"
        },
        "id": "3CkjEmsFSfMt",
        "outputId": "eadf42e3-a469-4a04-8c4f-c3b0c6ebbfd0"
      },
      "execution_count": null,
      "outputs": [
        {
          "output_type": "stream",
          "name": "stdout",
          "text": [
            "10\n"
          ]
        }
      ]
    },
    {
      "cell_type": "code",
      "source": [
        "x = lambda a, b, c : (a * b) - c + b\n",
        "print(x(2, 6, 2))"
      ],
      "metadata": {
        "colab": {
          "base_uri": "https://localhost:8080/"
        },
        "id": "KYqZk1WUSnZk",
        "outputId": "6742d85c-3c55-4ed7-e240-7242af343130"
      },
      "execution_count": null,
      "outputs": [
        {
          "output_type": "stream",
          "name": "stdout",
          "text": [
            "16\n"
          ]
        }
      ]
    },
    {
      "cell_type": "markdown",
      "source": [
        "Classes"
      ],
      "metadata": {
        "id": "7tNz8nvmTfGa"
      }
    },
    {
      "cell_type": "code",
      "source": [
        "class Carro:\n",
        "  def __init__(self, marca, modelo, ano, renavam, placa, cor):\n",
        "    self.marca = marca\n",
        "    self.modelo = modelo\n",
        "    self.ano = ano\n",
        "    self.renvam = renavam\n",
        "    self.placa = placa\n",
        "    self.cor = cor\n",
        "\n",
        "c1 = Carro(\"BMW\", \"X6 XDRIVE 50i M Sport 4.4 Bi-Turbo\", 2015,\"59088169120\", \"HJV9981\", \"Preto\")\n",
        "print(c1.marca)"
      ],
      "metadata": {
        "colab": {
          "base_uri": "https://localhost:8080/"
        },
        "id": "qpksEA9-Td9L",
        "outputId": "a9038177-de03-4bd2-c2a8-57d6fc8732f2"
      },
      "execution_count": null,
      "outputs": [
        {
          "output_type": "stream",
          "name": "stdout",
          "text": [
            "BMW\n"
          ]
        }
      ]
    }
  ]
}